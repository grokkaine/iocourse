{
 "cells": [
  {
   "cell_type": "markdown",
   "id": "34e9a433",
   "metadata": {},
   "source": [
    "# SNF lab\n",
    "\n",
    "### Task (45 minutes) \n",
    "\n",
    "Data: MOFA's CLL dataset\n",
    "\n",
    "1. Load and prepare data, then compute the affinity matrices and perform SNF.\n",
    "2. Assume that there are two cancer subtypes and cluster them :)\n",
    "3. Plot the fused network and the clusters using networkx, or Gephi, or igraph, whatever else you prefer.\n",
    "\n",
    "Optional:\n",
    "- Compare clusters to NMF\n",
    "- Use the other omics tables as well\n",
    "- Compare with the results from the MOFA analysis\n",
    "https://bioconductor.riken.jp/packages/3.9/bioc/vignettes/MOFA/inst/doc/MOFA_example_CLL.html\n",
    "\n",
    "Questions:\n",
    "\n",
    "\n",
    "Code:\n",
    "- Lab example uses a SNF implementation in Python:\n",
    "    - https://github.com/rmarkello/snfpy#usage\n",
    "    - https://snfpy.readthedocs.io/en/latest/usage.html\n",
    "- For R, feel free to use this package:\n",
    "    - https://cran.r-project.org/web/packages/NMF/index.html"
   ]
  },
  {
   "cell_type": "code",
   "execution_count": 1,
   "id": "d5ad5516",
   "metadata": {},
   "outputs": [
    {
     "name": "stdout",
     "output_type": "stream",
     "text": [
      "(13496, 135)\n"
     ]
    }
   ],
   "source": [
    "data_loc = \"C:\\\\mydata\\\\work\\\\io_course\\\\data\\\\\"\n",
    "\n",
    "import pandas as pd\n",
    "df_meth = pd.read_csv(data_loc + \"CLL_data_Methylation.csv\", index_col=0)\n",
    "df_mrna = pd.read_csv(data_loc + \"CLL_data_mRNA.csv\", index_col=0)\n",
    "\n",
    "# drop nans by column\n",
    "df_mrna = df_mrna.dropna(axis='columns')\n",
    "df_meth = df_meth.dropna(axis='columns')\n",
    "\n",
    "df_mrna = df_mrna.T\n",
    "df_meth = df_meth.T\n",
    "\n",
    "cols = df_meth.columns.copy()\n",
    "columns = {}\n",
    "for c in cols:\n",
    "    mask = df_meth[c] < 0\n",
    "    columns[c + '_p'] = df_meth[c].mask(mask)\n",
    "    columns[c + '_n'] = - df_meth[c].mask(~mask)\n",
    "df_meth = pd.concat(list(columns.values()), keys=list(columns.keys()), axis=1)  \n",
    "df_meth = df_meth.fillna(0)\n",
    "\n",
    "X = pd.concat([df_mrna.T, df_meth.T])\n",
    "X = X.dropna(axis='columns')\n",
    "print(X.shape)"
   ]
  },
  {
   "cell_type": "code",
   "execution_count": 2,
   "id": "d86c5d65",
   "metadata": {},
   "outputs": [
    {
     "data": {
      "text/plain": [
       "5000"
      ]
     },
     "execution_count": 2,
     "metadata": {},
     "output_type": "execute_result"
    }
   ],
   "source": [
    "df_mrna.T.shape[0]"
   ]
  },
  {
   "cell_type": "code",
   "execution_count": 3,
   "id": "6af1f13e",
   "metadata": {},
   "outputs": [],
   "source": [
    "X1 = X.iloc[5000:, :].T\n",
    "X2 = X.iloc[:5000, :].T"
   ]
  },
  {
   "cell_type": "markdown",
   "id": "1b153d6e-a5f7-4445-a984-dadd798f6f45",
   "metadata": {},
   "source": [
    "After loading the files and doing the required transformations to the data (check the NMF lab), I finally reached a point where I have each dataset in a matrix, X1 and X2, respectively mRNA and methylation. Now computing the affinity matrices.."
   ]
  },
  {
   "cell_type": "code",
   "execution_count": 4,
   "id": "2eb4b261",
   "metadata": {},
   "outputs": [
    {
     "name": "stdout",
     "output_type": "stream",
     "text": [
      "(135, 8496) (135, 5000)\n"
     ]
    }
   ],
   "source": [
    "print(X1.values.shape, X2.values.shape)"
   ]
  },
  {
   "cell_type": "code",
   "execution_count": 5,
   "id": "f6f0762e",
   "metadata": {},
   "outputs": [],
   "source": [
    "from snf import compute\n",
    "affinities = compute.make_affinity([X1.values, X2.values], metric='euclidean', K=20, mu=0.5)"
   ]
  },
  {
   "cell_type": "code",
   "execution_count": 6,
   "id": "99af898d",
   "metadata": {},
   "outputs": [
    {
     "data": {
      "text/plain": [
       "(135, 135)"
      ]
     },
     "execution_count": 6,
     "metadata": {},
     "output_type": "execute_result"
    }
   ],
   "source": [
    "affinities[0].shape"
   ]
  },
  {
   "cell_type": "markdown",
   "id": "8a3f15e9-6e18-4ed1-b3b9-39c61c48b75f",
   "metadata": {},
   "source": [
    "Applying the SNF method, with a k parameter of 20 (check the course slides for what this means). Then I extract the estimated number of clusters using spectral clustering."
   ]
  },
  {
   "cell_type": "code",
   "execution_count": 7,
   "id": "886a0053",
   "metadata": {},
   "outputs": [
    {
     "data": {
      "text/plain": [
       "(2, 4)"
      ]
     },
     "execution_count": 7,
     "metadata": {},
     "output_type": "execute_result"
    }
   ],
   "source": [
    "fused = compute.snf(affinities, K=20)\n",
    "first, second = compute.get_n_clusters(fused)\n",
    "first, second"
   ]
  },
  {
   "cell_type": "code",
   "execution_count": 8,
   "id": "71d6d74d",
   "metadata": {},
   "outputs": [],
   "source": [
    "import numpy as np\n",
    "all_labels = np.array([1 for i in range(135)] + [2 for i in range(135)])"
   ]
  },
  {
   "cell_type": "code",
   "execution_count": 9,
   "id": "ff4e658b",
   "metadata": {},
   "outputs": [
    {
     "name": "stderr",
     "output_type": "stream",
     "text": [
      "C:\\Users\\sergi\\anaconda3\\envs\\iocourse\\lib\\site-packages\\sklearn\\cluster\\_kmeans.py:1382: UserWarning: KMeans is known to have a memory leak on Windows with MKL, when there are less chunks than available threads. You can avoid it by setting the environment variable OMP_NUM_THREADS=1.\n",
      "  warnings.warn(\n",
      "C:\\Users\\sergi\\anaconda3\\envs\\iocourse\\lib\\site-packages\\sklearn\\cluster\\_kmeans.py:1382: UserWarning: KMeans is known to have a memory leak on Windows with MKL, when there are less chunks than available threads. You can avoid it by setting the environment variable OMP_NUM_THREADS=1.\n",
      "  warnings.warn(\n",
      "C:\\Users\\sergi\\anaconda3\\envs\\iocourse\\lib\\site-packages\\sklearn\\cluster\\_kmeans.py:1382: UserWarning: KMeans is known to have a memory leak on Windows with MKL, when there are less chunks than available threads. You can avoid it by setting the environment variable OMP_NUM_THREADS=1.\n",
      "  warnings.warn(\n"
     ]
    }
   ],
   "source": [
    "from sklearn import cluster\n",
    "fused_labels = cluster.spectral_clustering(fused, n_clusters=first)\n",
    "#labels = [all_labels, fused_labels]\n",
    "labels = [fused_labels]\n",
    "for arr in affinities:\n",
    "    labels += [cluster.spectral_clustering(arr, n_clusters=first)]"
   ]
  },
  {
   "cell_type": "code",
   "execution_count": 10,
   "id": "515aaaf3",
   "metadata": {},
   "outputs": [
    {
     "data": {
      "text/plain": [
       "array([1, 1, 0, 0, 1, 1, 0, 1, 0, 0, 0, 0, 0, 0, 0, 1, 0, 1, 1, 0, 0, 1,\n",
       "       0, 1, 1, 1, 0, 0, 1, 1, 1, 0, 1, 0, 0, 0, 1, 0, 0, 0, 0, 0, 0, 1,\n",
       "       0, 1, 1, 1, 0, 1, 1, 0, 1, 0, 1, 1, 1, 0, 0, 1, 1, 0, 1, 1, 1, 0,\n",
       "       1, 0, 0, 1, 1, 0, 0, 1, 0, 1, 0, 1, 0, 1, 1, 0, 1, 1, 1, 1, 0, 0,\n",
       "       0, 1, 1, 0, 0, 0, 0, 0, 0, 1, 1, 0, 1, 1, 0, 0, 1, 1, 0, 0, 1, 1,\n",
       "       1, 1, 0, 0, 1, 0, 1, 1, 0, 1, 1, 1, 0, 1, 1, 0, 0, 1, 1, 1, 0, 1,\n",
       "       0, 0, 1])"
      ]
     },
     "execution_count": 10,
     "metadata": {},
     "output_type": "execute_result"
    }
   ],
   "source": [
    "fused_labels"
   ]
  },
  {
   "cell_type": "markdown",
   "id": "09cb79ef-33bb-4345-8fe0-768d4a7e03df",
   "metadata": {},
   "source": [
    "You can now compare the estimated clusters from the fused matrix with the clustering done on the initial similarity matrices. As well as computing other indicators such as NMI and Silhouette scores."
   ]
  },
  {
   "cell_type": "code",
   "execution_count": 11,
   "id": "8c5af212",
   "metadata": {},
   "outputs": [
    {
     "data": {
      "text/plain": [
       "[array([1, 1, 0, 0, 1, 1, 0, 1, 0, 0, 0, 0, 0, 0, 0, 1, 0, 1, 1, 0, 0, 1,\n",
       "        0, 1, 1, 1, 0, 0, 1, 1, 1, 0, 1, 0, 0, 0, 1, 0, 0, 0, 0, 0, 0, 1,\n",
       "        0, 1, 1, 1, 0, 1, 1, 0, 1, 0, 1, 1, 1, 0, 0, 1, 1, 0, 1, 1, 1, 0,\n",
       "        1, 0, 0, 1, 1, 0, 0, 1, 0, 1, 0, 1, 0, 1, 1, 0, 1, 1, 1, 1, 0, 0,\n",
       "        0, 1, 1, 0, 0, 0, 0, 0, 0, 1, 1, 0, 1, 1, 0, 0, 1, 1, 0, 0, 1, 1,\n",
       "        1, 1, 0, 0, 1, 0, 1, 1, 0, 1, 1, 1, 0, 1, 1, 0, 0, 1, 1, 1, 0, 1,\n",
       "        0, 0, 1]),\n",
       " array([0, 0, 1, 1, 0, 0, 1, 0, 1, 1, 1, 1, 1, 1, 1, 0, 1, 0, 0, 1, 1, 0,\n",
       "        1, 0, 0, 0, 1, 1, 1, 0, 0, 1, 1, 1, 1, 1, 0, 1, 1, 1, 1, 1, 1, 1,\n",
       "        1, 0, 0, 0, 1, 0, 0, 1, 0, 1, 0, 0, 0, 1, 1, 0, 0, 1, 1, 0, 0, 1,\n",
       "        1, 1, 1, 0, 1, 1, 1, 0, 1, 0, 1, 0, 1, 0, 0, 1, 0, 0, 0, 1, 1, 1,\n",
       "        1, 0, 1, 1, 1, 1, 1, 1, 1, 0, 0, 1, 0, 0, 1, 1, 0, 0, 1, 1, 0, 1,\n",
       "        0, 0, 1, 1, 0, 1, 0, 0, 1, 0, 0, 0, 1, 0, 0, 1, 1, 0, 0, 1, 1, 0,\n",
       "        1, 1, 0]),\n",
       " array([0, 0, 1, 1, 0, 0, 0, 0, 0, 0, 0, 0, 0, 0, 0, 1, 0, 0, 0, 0, 0, 0,\n",
       "        0, 0, 0, 0, 0, 0, 0, 0, 0, 0, 0, 1, 0, 0, 0, 1, 0, 0, 0, 0, 0, 0,\n",
       "        0, 0, 0, 1, 0, 1, 0, 0, 1, 1, 1, 0, 1, 0, 0, 1, 1, 1, 1, 1, 0, 1,\n",
       "        1, 1, 1, 0, 1, 0, 0, 0, 1, 0, 0, 1, 0, 0, 1, 1, 1, 1, 0, 1, 0, 1,\n",
       "        0, 1, 1, 1, 0, 0, 0, 0, 1, 0, 1, 1, 1, 0, 0, 0, 0, 0, 0, 0, 0, 0,\n",
       "        0, 1, 0, 0, 0, 0, 0, 0, 1, 0, 0, 1, 0, 0, 0, 0, 0, 1, 0, 0, 0, 0,\n",
       "        0, 0, 1])]"
      ]
     },
     "execution_count": 11,
     "metadata": {},
     "output_type": "execute_result"
    }
   ],
   "source": [
    "labels"
   ]
  },
  {
   "cell_type": "code",
   "execution_count": 12,
   "id": "77adc98a",
   "metadata": {},
   "outputs": [
    {
     "name": "stdout",
     "output_type": "stream",
     "text": [
      "[[1.         0.68746257 0.01308389]\n",
      " [0.68746257 1.         0.00350462]\n",
      " [0.01308389 0.00350462 1.        ]]\n"
     ]
    }
   ],
   "source": [
    "from snf import metrics\n",
    "nmi = metrics.nmi(labels)\n",
    "print(nmi)"
   ]
  },
  {
   "cell_type": "code",
   "execution_count": 13,
   "id": "2e4acb86",
   "metadata": {},
   "outputs": [
    {
     "name": "stdout",
     "output_type": "stream",
     "text": [
      "Silhouette score for the fused matrix is: 0.24\n"
     ]
    }
   ],
   "source": [
    "import numpy as np\n",
    "np.fill_diagonal(fused, 0)\n",
    "sil = metrics.silhouette_score(fused, fused_labels)\n",
    "print('Silhouette score for the fused matrix is: {:.2f}'.format(sil))"
   ]
  },
  {
   "cell_type": "raw",
   "id": "877e2697",
   "metadata": {},
   "source": []
  }
 ],
 "metadata": {
  "kernelspec": {
   "display_name": "Python 3 (ipykernel)",
   "language": "python",
   "name": "python3"
  },
  "language_info": {
   "codemirror_mode": {
    "name": "ipython",
    "version": 3
   },
   "file_extension": ".py",
   "mimetype": "text/x-python",
   "name": "python",
   "nbconvert_exporter": "python",
   "pygments_lexer": "ipython3",
   "version": "3.10.9"
  }
 },
 "nbformat": 4,
 "nbformat_minor": 5
}
